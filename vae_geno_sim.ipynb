{
 "cells": [
  {
   "cell_type": "markdown",
   "metadata": {},
   "source": [
    "# Geno-VAE\n",
    "\n",
    "Arun Durvasula\n",
    "\n",
    "This notebook contains code for creating a variational autoencoder that learns how to generate data from the coalescent. It borrows code from the Keras examples directory.\n",
    "\n",
    "First things first let's load packages:"
   ]
  },
  {
   "cell_type": "code",
   "execution_count": 1,
   "metadata": {},
   "outputs": [
    {
     "name": "stderr",
     "output_type": "stream",
     "text": [
      "Using TensorFlow backend.\n"
     ]
    }
   ],
   "source": [
    "'''This script demonstrates how to build a variational autoencoder with Keras.\n",
    "\n",
    "Reference: \"Auto-Encoding Variational Bayes\" https://arxiv.org/abs/1312.6114\n",
    "'''\n",
    "import numpy as np\n",
    "import matplotlib.pyplot as plt\n",
    "import pandas as pd\n",
    "import msprime\n",
    "\n",
    "from scipy.stats import norm\n",
    "\n",
    "from keras.layers import Input, Dense, Lambda, Layer\n",
    "from keras.models import Model\n",
    "from keras import backend as K\n",
    "from keras import metrics\n",
    "from keras.datasets import mnist\n",
    "\n",
    "import sklearn as sk\n",
    "from sklearn.decomposition import PCA\n",
    "import matplotlib.pyplot as plt\n",
    "%matplotlib inline  \n",
    "\n",
    "plt.style.use('ggplot')"
   ]
  },
  {
   "cell_type": "markdown",
   "metadata": {},
   "source": [
    "# Simulation\n",
    "\n",
    "We need data to train on. Here we generate data from the coalescent using msprime. The demography is a simple pants model with a very old split time and a low $N_e$ to ensure the populations undergo a lot of differentiation (to make things easy on ourselves). The output is a genotype matrix."
   ]
  },
  {
   "cell_type": "code",
   "execution_count": 2,
   "metadata": {},
   "outputs": [
    {
     "name": "stdout",
     "output_type": "stream",
     "text": [
      "[[0 0 0 ..., 0 0 0]\n",
      " [0 0 0 ..., 0 0 0]\n",
      " [1 1 1 ..., 0 0 0]\n",
      " ..., \n",
      " [1 1 1 ..., 0 0 0]\n",
      " [0 0 0 ..., 0 0 0]\n",
      " [0 0 0 ..., 0 0 0]]\n"
     ]
    }
   ],
   "source": [
    "POP1_SAMPLE_SIZE=25000 # Number of samples from population 1\n",
    "POP2_SAMPLE_SIZE=25000 # Number of samples from population 2\n",
    "length=50000 # 100KB of sequence\n",
    "\n",
    "mutation_rate=2e-8\n",
    "recombination_rate=2e-8\n",
    "NA=1000\n",
    "N1=1000 # Population 1 size (diploid individuals)\n",
    "N2=1000 # Population 2 size\n",
    "M=0 # Migration rate between pop1 and pop2\n",
    "SPLIT_TIME=15000 #Split time between pop1 and pop2 in generations\n",
    "\n",
    "population_configurations = [\n",
    "    msprime.PopulationConfiguration(sample_size=POP1_SAMPLE_SIZE, initial_size=N1),\n",
    "    msprime.PopulationConfiguration(sample_size=POP2_SAMPLE_SIZE, initial_size=N2)\n",
    "]\n",
    "\n",
    "migration_matrix = [\n",
    "    [0, M],\n",
    "    [M, 0]\n",
    "]\n",
    "\n",
    "demographic_events = [\n",
    "    msprime.MassMigration(time=SPLIT_TIME, source=1, destination=0, proportion=1.0)\n",
    "]\n",
    "\n",
    "### Run the simulation\n",
    "tree_sequence = msprime.simulate(\n",
    "    Ne=NA,\n",
    "    length=length,\n",
    "    recombination_rate=recombination_rate,\n",
    "    mutation_rate=mutation_rate,\n",
    "    population_configurations=population_configurations,\n",
    "    migration_matrix=migration_matrix,\n",
    "    demographic_events=demographic_events)\n",
    "\n",
    "shape = tree_sequence.get_num_mutations(), tree_sequence.get_sample_size()\n",
    "A = np.empty(shape, dtype=\"u1\")\n",
    "for variant in tree_sequence.variants():\n",
    "    A[variant.index] = variant.genotypes\n",
    "print(A)"
   ]
  },
  {
   "cell_type": "markdown",
   "metadata": {},
   "source": [
    "# Prepare data\n",
    "\n",
    "Normalize the genotype matrix and transpose it so we have individuals/haplotypes as the samples and genotypes as the features."
   ]
  },
  {
   "cell_type": "code",
   "execution_count": 3,
   "metadata": {},
   "outputs": [
    {
     "name": "stdout",
     "output_type": "stream",
     "text": [
      "(118, 50000)\n",
      "50000\n"
     ]
    },
    {
     "name": "stderr",
     "output_type": "stream",
     "text": [
      "/Users/arun/anaconda3/envs/tf12/lib/python3.6/site-packages/sklearn/utils/validation.py:429: DataConversionWarning: Data with input dtype uint8 was converted to float64 by the scale function.\n",
      "  warnings.warn(msg, _DataConversionWarning)\n"
     ]
    }
   ],
   "source": [
    "As = sk.preprocessing.scale(A)\n",
    "print(As.shape)\n",
    "x_train = As.T\n",
    "print(x_train.shape[0])"
   ]
  },
  {
   "cell_type": "markdown",
   "metadata": {},
   "source": [
    "# Set up VAE\n",
    "\n",
    "Here we set up the variational autoencoder. We set the batch size to the number of individuals divided by 50 so we have many batch updates per epoch. We set the original dimensions of the NN to the number of SNPs. We set the hidden layer to ~$1/2$ of the number of SNPs, we train for 50 epochs and we set the variance of the normal distribution we sample from to be 1 so that it's a standard normal.\n",
    "\n",
    "We also set `latent_dim` to 3, which is the number of latent dimensions for our VAE. This means that we are embedding into 3 dimensions and will need to sample 3 latent variables in order to generate a sample later on."
   ]
  },
  {
   "cell_type": "code",
   "execution_count": 4,
   "metadata": {},
   "outputs": [],
   "source": [
    "batch_size = int(x_train.shape[0]/50)\n",
    "original_dim = int(x_train.shape[1])\n",
    "latent_dim = 3\n",
    "intermediate_dim = int(original_dim/2)\n",
    "epochs = 50\n",
    "epsilon_std = 1.0"
   ]
  },
  {
   "cell_type": "markdown",
   "metadata": {},
   "source": [
    "# Set up networks\n",
    "\n",
    "This code is taken directly from the Keras example, but I changed the activations from `relu` to `tanh`."
   ]
  },
  {
   "cell_type": "code",
   "execution_count": 5,
   "metadata": {},
   "outputs": [
    {
     "name": "stderr",
     "output_type": "stream",
     "text": [
      "/Users/arun/anaconda3/envs/tf12/lib/python3.6/site-packages/ipykernel_launcher.py:43: UserWarning: Output \"custom_variational_layer_1\" missing from loss dictionary. We assume this was done on purpose, and we will not be expecting any data to be passed to \"custom_variational_layer_1\" during training.\n"
     ]
    }
   ],
   "source": [
    "x = Input(batch_shape=(batch_size, original_dim))\n",
    "h = Dense(intermediate_dim, activation='tanh')(x)\n",
    "z_mean = Dense(latent_dim)(h)\n",
    "z_log_var = Dense(latent_dim)(h)\n",
    "\n",
    "\n",
    "def sampling(args):\n",
    "    z_mean, z_log_var = args\n",
    "    epsilon = K.random_normal(shape=(batch_size, latent_dim), mean=0., stddev=epsilon_std)\n",
    "    return z_mean + K.exp(z_log_var / 2) * epsilon\n",
    "\n",
    "# note that \"output_shape\" isn't necessary with the TensorFlow backend\n",
    "z = Lambda(sampling)([z_mean, z_log_var])\n",
    "\n",
    "# we instantiate these layers separately so as to reuse them later\n",
    "decoder_h = Dense(intermediate_dim, activation='tanh')\n",
    "decoder_mean = Dense(original_dim, activation='sigmoid')\n",
    "h_decoded = decoder_h(z)\n",
    "x_decoded_mean = decoder_mean(h_decoded)\n",
    "\n",
    "\n",
    "# Custom loss layer\n",
    "class CustomVariationalLayer(Layer):\n",
    "    def __init__(self, **kwargs):\n",
    "        self.is_placeholder = True\n",
    "        super(CustomVariationalLayer, self).__init__(**kwargs)\n",
    "\n",
    "    def vae_loss(self, x, x_decoded_mean):\n",
    "        xent_loss = original_dim * metrics.binary_crossentropy(x, x_decoded_mean)\n",
    "        kl_loss = - 0.5 * K.sum(1 + z_log_var - K.square(z_mean) - K.exp(z_log_var), axis=-1)\n",
    "        return K.mean(xent_loss + kl_loss)\n",
    "\n",
    "    def call(self, inputs):\n",
    "        x = inputs[0]\n",
    "        x_decoded_mean = inputs[1]\n",
    "        loss = self.vae_loss(x, x_decoded_mean)\n",
    "        self.add_loss(loss, inputs=inputs)\n",
    "        # We won't actually use the output.\n",
    "        return x\n",
    "\n",
    "y = CustomVariationalLayer()([x, x_decoded_mean])\n",
    "vae = Model(x, y)\n",
    "vae.compile(optimizer='RMSProp', loss=None)"
   ]
  },
  {
   "cell_type": "markdown",
   "metadata": {},
   "source": [
    "# Train it!"
   ]
  },
  {
   "cell_type": "code",
   "execution_count": 6,
   "metadata": {
    "scrolled": true
   },
   "outputs": [
    {
     "name": "stdout",
     "output_type": "stream",
     "text": [
      "Epoch 1/50\n",
      "50000/50000 [==============================] - 0s - loss: -9.2694     \n",
      "Epoch 2/50\n",
      "50000/50000 [==============================] - 0s - loss: -137.2370     \n",
      "Epoch 3/50\n",
      "50000/50000 [==============================] - 0s - loss: -250.3498     \n",
      "Epoch 4/50\n",
      "50000/50000 [==============================] - 0s - loss: -362.5530     \n",
      "Epoch 5/50\n",
      "50000/50000 [==============================] - 0s - loss: -473.5900     \n",
      "Epoch 6/50\n",
      "50000/50000 [==============================] - 0s - loss: -572.7724     \n",
      "Epoch 7/50\n",
      "50000/50000 [==============================] - 0s - loss: -643.9134     \n",
      "Epoch 8/50\n",
      "50000/50000 [==============================] - 0s - loss: -706.6694     \n",
      "Epoch 9/50\n",
      "50000/50000 [==============================] - 0s - loss: -755.0437     \n",
      "Epoch 10/50\n",
      "50000/50000 [==============================] - 0s - loss: -779.7064     \n",
      "Epoch 11/50\n",
      "50000/50000 [==============================] - 0s - loss: -792.0797     \n",
      "Epoch 12/50\n",
      "50000/50000 [==============================] - 0s - loss: -803.1515     \n",
      "Epoch 13/50\n",
      "50000/50000 [==============================] - 0s - loss: -814.3808     \n",
      "Epoch 14/50\n",
      "50000/50000 [==============================] - 0s - loss: -825.9346     \n",
      "Epoch 15/50\n",
      "50000/50000 [==============================] - 0s - loss: -833.8659     \n",
      "Epoch 16/50\n",
      "50000/50000 [==============================] - 0s - loss: -836.4134     \n",
      "Epoch 17/50\n",
      "50000/50000 [==============================] - 0s - loss: -838.1386     \n",
      "Epoch 18/50\n",
      "50000/50000 [==============================] - 0s - loss: -839.9606     \n",
      "Epoch 19/50\n",
      "50000/50000 [==============================] - 0s - loss: -842.1940     \n",
      "Epoch 20/50\n",
      "50000/50000 [==============================] - 0s - loss: -844.9293     \n",
      "Epoch 21/50\n",
      "50000/50000 [==============================] - 0s - loss: -847.9975     \n",
      "Epoch 22/50\n",
      "50000/50000 [==============================] - 0s - loss: -852.1411     \n",
      "Epoch 23/50\n",
      "50000/50000 [==============================] - 0s - loss: -858.1832     \n",
      "Epoch 24/50\n",
      "50000/50000 [==============================] - 0s - loss: -864.5421     \n",
      "Epoch 25/50\n",
      "50000/50000 [==============================] - 0s - loss: -870.9579     \n",
      "Epoch 26/50\n",
      "50000/50000 [==============================] - 0s - loss: -877.0961     \n",
      "Epoch 27/50\n",
      "50000/50000 [==============================] - 0s - loss: -882.9812     \n",
      "Epoch 28/50\n",
      "50000/50000 [==============================] - 0s - loss: -888.2753     \n",
      "Epoch 29/50\n",
      "50000/50000 [==============================] - 0s - loss: -892.9274     \n",
      "Epoch 30/50\n",
      "50000/50000 [==============================] - 0s - loss: -897.2852     \n",
      "Epoch 31/50\n",
      "50000/50000 [==============================] - 0s - loss: -901.5068     \n",
      "Epoch 32/50\n",
      "50000/50000 [==============================] - 0s - loss: -905.4274     \n",
      "Epoch 33/50\n",
      "50000/50000 [==============================] - 0s - loss: -908.9342     \n",
      "Epoch 34/50\n",
      "50000/50000 [==============================] - 0s - loss: -912.0291     \n",
      "Epoch 35/50\n",
      "50000/50000 [==============================] - 0s - loss: -914.9706     \n",
      "Epoch 36/50\n",
      "50000/50000 [==============================] - 0s - loss: -917.6814     \n",
      "Epoch 37/50\n",
      "50000/50000 [==============================] - 0s - loss: -920.2091     \n",
      "Epoch 38/50\n",
      "50000/50000 [==============================] - 0s - loss: -922.5480     \n",
      "Epoch 39/50\n",
      "50000/50000 [==============================] - 0s - loss: -924.6793     \n",
      "Epoch 40/50\n",
      "50000/50000 [==============================] - 0s - loss: -926.6621     \n",
      "Epoch 41/50\n",
      "50000/50000 [==============================] - 0s - loss: -928.5228     \n",
      "Epoch 42/50\n",
      "50000/50000 [==============================] - 0s - loss: -930.1856     \n",
      "Epoch 43/50\n",
      "50000/50000 [==============================] - 0s - loss: -931.7485     \n",
      "Epoch 44/50\n",
      "50000/50000 [==============================] - 0s - loss: -933.2469     \n",
      "Epoch 45/50\n",
      "50000/50000 [==============================] - 0s - loss: -934.6898     \n",
      "Epoch 46/50\n",
      "50000/50000 [==============================] - 0s - loss: -936.0371     \n",
      "Epoch 47/50\n",
      "50000/50000 [==============================] - 0s - loss: -937.2646     \n",
      "Epoch 48/50\n",
      "50000/50000 [==============================] - 0s - loss: -938.4507     \n",
      "Epoch 49/50\n",
      "50000/50000 [==============================] - 0s - loss: -939.5015     \n",
      "Epoch 50/50\n",
      "50000/50000 [==============================] - 0s - loss: -940.4700     \n"
     ]
    }
   ],
   "source": [
    "vae.fit(x_train,\n",
    "        shuffle=True,\n",
    "        epochs=epochs,\n",
    "        batch_size=batch_size)\n",
    "\n",
    "# build a model to project inputs on the latent space\n",
    "encoder = Model(x, z_mean)\n",
    "\n",
    "# build a digit generator that can sample from the learned distribution\n",
    "decoder_input = Input(shape=(latent_dim,))\n",
    "_h_decoded = decoder_h(decoder_input)\n",
    "_x_decoded_mean = decoder_mean(_h_decoded)\n",
    "generator = Model(decoder_input, _x_decoded_mean)"
   ]
  },
  {
   "cell_type": "markdown",
   "metadata": {},
   "source": [
    "# Sample generation\n",
    "\n",
    "Here we generate samples from our trained model. If we sample uniformly across the range $(0,1)$ we won't see any population structure. Therefore, we sample from the edges of the range across the 3 latent variables. First we draw $5^3$ samples from 0.05-0.06, then we draw the same number of samples from 0.94-0.95."
   ]
  },
  {
   "cell_type": "code",
   "execution_count": 7,
   "metadata": {},
   "outputs": [],
   "source": [
    "n=5\n",
    "grid_x = norm.ppf(np.linspace(0.05, 0.06, n))\n",
    "grid_y = norm.ppf(np.linspace(0.05, 0.06, n))\n",
    "grid_z = norm.ppf(np.linspace(0.05, 0.06, n))\n",
    "\n",
    "\n",
    "\n",
    "generated_inds = []\n",
    "for i, xi in enumerate(grid_x):\n",
    "    for j, yi in enumerate(grid_y):\n",
    "        for k, zi in enumerate(grid_z):\n",
    "            z_sample = np.array([[xi, yi, zi]])\n",
    "            x_decoded = generator.predict(z_sample)\n",
    "            generated_inds.append(x_decoded[0])\n",
    "\n",
    "n=5\n",
    "grid_x = norm.ppf(np.linspace(0.94, 0.95, n))\n",
    "grid_y = norm.ppf(np.linspace(0.94, 0.95, n))\n",
    "grid_z = norm.ppf(np.linspace(0.94, 0.95, n))\n",
    "\n",
    "for i, xi in enumerate(grid_x):\n",
    "    for j, yi in enumerate(grid_y):\n",
    "        for k, zi in enumerate(grid_z):\n",
    "            z_sample = np.array([[xi, yi, zi]])\n",
    "            x_decoded = generator.predict(z_sample)\n",
    "            generated_inds.append(x_decoded[0])"
   ]
  },
  {
   "cell_type": "markdown",
   "metadata": {},
   "source": [
    "# Comparison\n",
    "\n",
    "Here we look at the orignial data and plot the PCA. "
   ]
  },
  {
   "cell_type": "code",
   "execution_count": 8,
   "metadata": {},
   "outputs": [
    {
     "name": "stdout",
     "output_type": "stream",
     "text": [
      "(50000, 2)\n"
     ]
    },
    {
     "data": {
      "text/plain": [
       "<matplotlib.text.Text at 0x11ab4f198>"
      ]
     },
     "execution_count": 8,
     "metadata": {},
     "output_type": "execute_result"
    },
    {
     "data": {
      "image/png": "[encoded data removed]",
      "text/plain": [
       "<matplotlib.figure.Figure at 0x11a5e35c0>"
      ]
     },
     "metadata": {},
     "output_type": "display_data"
    }
   ],
   "source": [
    "pca = PCA(n_components=2)\n",
    "pca.fit(x_train)\n",
    "v = pca.transform(x_train)\n",
    "print(v.shape)\n",
    "plt.scatter(v[:, 0], v[:, 1])\n",
    "plt.title(\"Original data\")"
   ]
  },
  {
   "cell_type": "markdown",
   "metadata": {},
   "source": [
    "# Generated data\n",
    "\n",
    "Here we look at the PCA for the generated data."
   ]
  },
  {
   "cell_type": "code",
   "execution_count": 9,
   "metadata": {},
   "outputs": [
    {
     "name": "stdout",
     "output_type": "stream",
     "text": [
      "(250, 10)\n"
     ]
    },
    {
     "data": {
      "text/plain": [
       "<matplotlib.text.Text at 0x119a36b38>"
      ]
     },
     "execution_count": 9,
     "metadata": {},
     "output_type": "execute_result"
    },
    {
     "data": {
      "image/png": "[encoded data removed]",
      "text/plain": [
       "<matplotlib.figure.Figure at 0x11a5e3588>"
      ]
     },
     "metadata": {},
     "output_type": "display_data"
    }
   ],
   "source": [
    "n_gen_ind = np.array(generated_inds)\n",
    "pca = PCA(n_components=10)\n",
    "pca.fit(n_gen_ind)\n",
    "v = pca.transform(n_gen_ind)\n",
    "print(v.shape)\n",
    "plt.scatter(v[:, 0], v[:, 1])\n",
    "plt.title(\"Generated data\")"
   ]
  },
  {
   "cell_type": "code",
   "execution_count": 10,
   "metadata": {},
   "outputs": [
    {
     "data": {
      "text/plain": [
       "(250, 118)"
      ]
     },
     "execution_count": 10,
     "metadata": {},
     "output_type": "execute_result"
    }
   ],
   "source": [
    "n_gen_ind.shape"
   ]
  },
  {
   "cell_type": "code",
   "execution_count": 11,
   "metadata": {},
   "outputs": [
    {
     "data": {
      "text/plain": [
       "(50000, 118)"
      ]
     },
     "execution_count": 11,
     "metadata": {},
     "output_type": "execute_result"
    }
   ],
   "source": [
    "x_train.shape"
   ]
  },
  {
   "cell_type": "markdown",
   "metadata": {},
   "source": [
    "# Visualizing the embedding\n",
    "\n",
    "We can take a look at how the encoder embeds samples. We make the encoder embed the the training data and plot the latent variables against each other. One population is in blue, the other is in yellow. If the encoder learns a good representation, we should be able to see some separation between the two populations. "
   ]
  },
  {
   "cell_type": "code",
   "execution_count": 12,
   "metadata": {},
   "outputs": [],
   "source": [
    "x_test_encoded = encoder.predict(x_train, batch_size=batch_size)"
   ]
  },
  {
   "cell_type": "code",
   "execution_count": 13,
   "metadata": {},
   "outputs": [
    {
     "data": {
      "image/png": "[encoded data removed]",
      "text/plain": [
       "<matplotlib.figure.Figure at 0x11a5e3208>"
      ]
     },
     "metadata": {},
     "output_type": "display_data"
    }
   ],
   "source": [
    "col = [0]*POP1_SAMPLE_SIZE + [1] *POP2_SAMPLE_SIZE\n",
    "plt.figure(figsize=(6, 6))\n",
    "plt.scatter(x_test_encoded[:, 0], x_test_encoded[:, 1], c=col)\n",
    "plt.colorbar()\n",
    "plt.xlabel(\"z1\")\n",
    "plt.ylabel(\"z2\")\n",
    "plt.title(\"Training populations in latent space (latent variable 1 vs 2)\")\n",
    "plt.show()"
   ]
  },
  {
   "cell_type": "code",
   "execution_count": 14,
   "metadata": {},
   "outputs": [
    {
     "data": {
      "image/png": "[encoded data removed]",
      "text/plain": [
       "<matplotlib.figure.Figure at 0x11ab16ba8>"
      ]
     },
     "metadata": {},
     "output_type": "display_data"
    }
   ],
   "source": [
    "col = [0]*POP1_SAMPLE_SIZE + [1] *POP2_SAMPLE_SIZE\n",
    "plt.figure(figsize=(6, 6))\n",
    "plt.scatter(x_test_encoded[:, 1], x_test_encoded[:, 2], c=col)\n",
    "plt.colorbar()\n",
    "plt.xlabel(\"z2\")\n",
    "plt.ylabel(\"z3\")\n",
    "plt.title(\"Training populations in latent space (latent variable 2 vs 3)\")\n",
    "plt.show()"
   ]
  }
 ],
 "metadata": {
  "kernelspec": {
   "display_name": "Python 3",
   "language": "python",
   "name": "python3"
  },
  "language_info": {
   "codemirror_mode": {
    "name": "ipython",
    "version": 3
   },
   "file_extension": ".py",
   "mimetype": "text/x-python",
   "name": "python",
   "nbconvert_exporter": "python",
   "pygments_lexer": "ipython3",
   "version": "3.6.2"
  }
 },
 "nbformat": 4,
 "nbformat_minor": 2
}
