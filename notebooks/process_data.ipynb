{
 "cells": [
  {
   "cell_type": "markdown",
   "metadata": {},
   "source": [
    "# Processing data\n",
    "\n",
    "*By Joe Marcus and Arun Durvasula*\n",
    "\n",
    "---\n",
    "\n",
    "Here we process input genotype genotype for the GAN. We're starting with a very small example of ~100 europeans from the HGDP and ~50k ld pruned SNPs to play around. See John Novembre tutorial on population structure for more details on this test dataset ...\n",
    "\n",
    "https://github.com/NovembreLab/HGDP_PopStruct_Exercise\n",
    "\n",
    "We are also using a larger dataset of 1577 unrelated individuals from Sardinia to see if the number of indiviudals in the training set improves results ...\n",
    "\n",
    "http://www.nature.com/ng/journal/v47/n11/full/ng.3368.html"
   ]
  },
  {
   "cell_type": "markdown",
   "metadata": {},
   "source": [
    "# Imports"
   ]
  },
  {
   "cell_type": "code",
   "execution_count": 8,
   "metadata": {
    "collapsed": true
   },
   "outputs": [],
   "source": [
    "%matplotlib inline  "
   ]
  },
  {
   "cell_type": "code",
   "execution_count": 9,
   "metadata": {
    "collapsed": true
   },
   "outputs": [],
   "source": [
    "import numpy as np\n",
    "import pandas as pd\n",
    "import sklearn as sk\n",
    "from sklearn.decomposition import PCA\n",
    "import matplotlib.pyplot as plt\n",
    "\n",
    "plt.style.use('ggplot')"
   ]
  },
  {
   "cell_type": "markdown",
   "metadata": {},
   "source": [
    "# Functions"
   ]
  },
  {
   "cell_type": "code",
   "execution_count": 12,
   "metadata": {
    "collapsed": false
   },
   "outputs": [],
   "source": [
    "def prepare_data(traw_path):\n",
    "    '''\n",
    "    takes in path to the traw file from plink and outputs a \n",
    "    standardized genotype matrix as a numpy array\n",
    "    '''\n",
    "    # read data\n",
    "    df = pd.read_table(traw_path)\n",
    "    \n",
    "    # convert to matrix\n",
    "    x = df.drop(['CHR', 'SNP', '(C)M', 'POS', 'COUNTED', 'ALT'], axis=1).as_matrix()\n",
    "    p = x.shape[0]\n",
    "    n = x.shape[1]\n",
    "    print('{} individuals and {} snps'.format(p, n))\n",
    "    \n",
    "    # remove any rows with nans\n",
    "    x = x[~np.isnan(x).any(axis=1)]\n",
    "    print('removed {} rows from matrix'.format(p - x.shape[0]))\n",
    "    \n",
    "    # standardize the genotypes\n",
    "    z = sk.preprocessing.scale(x)\n",
    "\n",
    "    return(z)\n",
    "\n",
    "def run_pca(z):\n",
    "    '''\n",
    "    '''\n",
    "    pca = PCA(n_components=2)\n",
    "    pca.fit(z.T)\n",
    "    v = pca.transform(z.T)\n",
    "    \n",
    "    return(v)"
   ]
  },
  {
   "cell_type": "markdown",
   "metadata": {},
   "source": [
    "# Read and clean data"
   ]
  },
  {
   "cell_type": "markdown",
   "metadata": {},
   "source": [
    "read the hgdp euro data"
   ]
  },
  {
   "cell_type": "code",
   "execution_count": 14,
   "metadata": {
    "collapsed": false
   },
   "outputs": [
    {
     "name": "stdout",
     "output_type": "stream",
     "text": [
      "59477 individuals and 124 snps\n",
      "removed 2 rows from matrix\n"
     ]
    }
   ],
   "source": [
    "z_hgdp_euro = prepare_data('../data/H938_Euro.LDprune.traw')"
   ]
  },
  {
   "cell_type": "markdown",
   "metadata": {},
   "source": [
    "read the sardinia data"
   ]
  },
  {
   "cell_type": "code",
   "execution_count": 11,
   "metadata": {
    "collapsed": false
   },
   "outputs": [
    {
     "name": "stdout",
     "output_type": "stream",
     "text": [
      "531785 individuals and 1577 snps\n",
      "removed 0 rows from matrix\n"
     ]
    },
    {
     "name": "stderr",
     "output_type": "stream",
     "text": [
      "/project/jnovembre/jhmarcus/src/anaconda3/lib/python3.6/site-packages/sklearn/utils/validation.py:429: DataConversionWarning: Data with input dtype int64 was converted to float64 by the scale function.\n",
      "  warnings.warn(msg, _DataConversionWarning)\n"
     ]
    }
   ],
   "source": [
    "z_sard = prepare_data('../data/Sardinia.1577.unrelated.pruned.traw')"
   ]
  },
  {
   "cell_type": "markdown",
   "metadata": {},
   "source": [
    "# Run pca "
   ]
  },
  {
   "cell_type": "markdown",
   "metadata": {},
   "source": [
    "visualize the datasets using pca to make sure the input matricies looks sensible"
   ]
  },
  {
   "cell_type": "code",
   "execution_count": 15,
   "metadata": {
    "collapsed": false
   },
   "outputs": [],
   "source": [
    "v = run_pca(z_hgdp_euro)"
   ]
  },
  {
   "cell_type": "code",
   "execution_count": 16,
   "metadata": {
    "collapsed": false
   },
   "outputs": [
    {
     "data": {
      "text/plain": [
       "<matplotlib.collections.PathCollection at 0x7f870e26b550>"
      ]
     },
     "execution_count": 16,
     "metadata": {},
     "output_type": "execute_result"
    },
    {
     "data": {
      "image/png": "[encoded data removed]",
      "text/plain": [
       "<matplotlib.figure.Figure at 0x7f870f0c9b00>"
      ]
     },
     "metadata": {},
     "output_type": "display_data"
    }
   ],
   "source": [
    "plt.scatter(v[:, 0], v[:, 1])"
   ]
  },
  {
   "cell_type": "code",
   "execution_count": 22,
   "metadata": {
    "collapsed": true
   },
   "outputs": [],
   "source": [
    "v = run_pca(z_sard[np.random.choice(z_sard.shape[0], 50000, replace=False)])"
   ]
  },
  {
   "cell_type": "markdown",
   "metadata": {},
   "source": [
    "this confirms that it looks the same as the run of smartpca in John's tutorial. Lets now run pca on 50k randomly sampled snps for the sardinia data ..."
   ]
  },
  {
   "cell_type": "code",
   "execution_count": 23,
   "metadata": {
    "collapsed": false
   },
   "outputs": [
    {
     "data": {
      "text/plain": [
       "<matplotlib.collections.PathCollection at 0x7f870f1efda0>"
      ]
     },
     "execution_count": 23,
     "metadata": {},
     "output_type": "execute_result"
    },
    {
     "data": {
      "image/png": "[encoded data removed]",
      "text/plain": [
       "<matplotlib.figure.Figure at 0x7f870f09fcc0>"
      ]
     },
     "metadata": {},
     "output_type": "display_data"
    }
   ],
   "source": [
    "plt.scatter(v[:, 0], v[:, 1])"
   ]
  },
  {
   "cell_type": "markdown",
   "metadata": {},
   "source": [
    "these results look the same as the demography paper"
   ]
  },
  {
   "cell_type": "markdown",
   "metadata": {},
   "source": [
    "# Save genotype matricies"
   ]
  },
  {
   "cell_type": "markdown",
   "metadata": {},
   "source": [
    "lets also subsample the hgdp euro data to 10k rows so we can push it to github. We'll also save the the numpy array for the sardinia data but not push it to github as its technically private data"
   ]
  },
  {
   "cell_type": "code",
   "execution_count": 28,
   "metadata": {
    "collapsed": false
   },
   "outputs": [],
   "source": [
    "# set random seed for to sample the same 10k rows\n",
    "np.random.seed(1990)"
   ]
  },
  {
   "cell_type": "code",
   "execution_count": 17,
   "metadata": {
    "collapsed": false
   },
   "outputs": [],
   "source": [
    "z_hgdp_euro_samp = z_hgdp_euro[np.random.choice(z_hgdp_euro.shape[0], 10000, replace=False)] \n",
    "np.save('../data/H938_Euro.LDprune.samp', z_hgdp_euro_samp)"
   ]
  },
  {
   "cell_type": "code",
   "execution_count": 18,
   "metadata": {
    "collapsed": true
   },
   "outputs": [],
   "source": [
    "np.save('../data/Sardinia.1577.unrelated.pruned', z_sard)"
   ]
  }
 ],
 "metadata": {
  "kernelspec": {
   "display_name": "Python 3",
   "language": "python",
   "name": "python3"
  },
  "language_info": {
   "codemirror_mode": {
    "name": "ipython",
    "version": 3
   },
   "file_extension": ".py",
   "mimetype": "text/x-python",
   "name": "python",
   "nbconvert_exporter": "python",
   "pygments_lexer": "ipython3",
   "version": "3.6.0"
  }
 },
 "nbformat": 4,
 "nbformat_minor": 2
}
